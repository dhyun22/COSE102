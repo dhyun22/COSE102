{
  "nbformat": 4,
  "nbformat_minor": 0,
  "metadata": {
    "colab": {
      "provenance": [],
      "authorship_tag": "ABX9TyPtzJGzPjxuHRWzUXz6P87t",
      "include_colab_link": true
    },
    "kernelspec": {
      "name": "python3",
      "display_name": "Python 3"
    },
    "language_info": {
      "name": "python"
    }
  },
  "cells": [
    {
      "cell_type": "markdown",
      "metadata": {
        "id": "view-in-github",
        "colab_type": "text"
      },
      "source": [
        "<a href=\"https://colab.research.google.com/github/dhyun22/COSE102/blob/main/challenge.ipynb\" target=\"_parent\"><img src=\"https://colab.research.google.com/assets/colab-badge.svg\" alt=\"Open In Colab\"/></a>"
      ]
    },
    {
      "cell_type": "code",
      "execution_count": null,
      "metadata": {
        "id": "-cAjIlvJ9O-r"
      },
      "outputs": [],
      "source": [
        "import sys\n",
        "!sudo add-apt-repository ppa:saiarcot895/chromium-beta\n",
        "!sudo apt remove chromium-browser\n",
        "!sudo snap remove chromium\n",
        "!sudo apt install chromium-browser\n",
        "!pip install selenium\n",
        "!apt-get update\n",
        "!apt install chromium-chromedriver\n",
        "!cp /usr/lib/chromium-browser/chromedriver /usr/bin\n",
        "sys.path.insert(0, '/usr/lib/chromium-browser/chromedriver')"
      ]
    },
    {
      "cell_type": "code",
      "source": [
        "import time\n",
        "from selenium import webdriver\n",
        "from selenium.webdriver.common.by import By\n",
        "from bs4 import BeautifulSoup\n",
        "\n",
        "specific_options=webdriver.ChromeOptions()\n",
        "specific_options.add_argument('--headless')\n",
        "specific_options.add_argument('--no-sandbox')\n",
        "driver=webdriver.Chrome(options=specific_options)\n",
        "\n",
        "search_word = input()\n",
        "\n",
        "driver.get(\"https://opendict.korean.go.kr/search/searchResult?query=\"+search_word+\"&dicType=2&wordMatch=N&searchType=&currentPage=1&cateCode=&fieldCode=&spCode=&divSearch=search&infoType=confirm&rowsperPage=10&sort=W\")\n",
        "time.sleep(3)\n",
        "\n",
        "soup = BeautifulSoup(driver.page_source, 'html.parser')\n",
        "sentences = soup.find_all('span', class_ = 'search_word_type1_17')\n",
        "sentence_list = list()\n",
        "result = list()\n",
        "if sentences:\n",
        "  for each_data in sentences:\n",
        "    sentence = each_data.text\n",
        "    change = '□' * len(search_word)\n",
        "    sentence = sentence.replace(search_word, change)\n",
        "    sentence_list.append(sentence)\n",
        "  for value in sentence_list:\n",
        "    if value not in result:\n",
        "      result.append(value)\n",
        "\n",
        "i=0\n",
        "if len(result)<3 :\n",
        "  print('관용구 또는 속담 수가 부족합니다.')\n",
        "else:\n",
        "  while i<3:\n",
        "    print(result[i])\n",
        "    i+=1"
      ],
      "metadata": {
        "colab": {
          "base_uri": "https://localhost:8080/"
        },
        "id": "Guqcls839XYu",
        "outputId": "ea3810f7-6c87-473b-da17-c862f4a36c5c"
      },
      "execution_count": null,
      "outputs": [
        {
          "output_type": "stream",
          "name": "stdout",
          "text": [
            "고려대학교\n",
            "관용구 또는 속담 수가 부족합니다.\n"
          ]
        }
      ]
    },
    {
      "cell_type": "code",
      "source": [
        "soup = BeautifulSoup(driver.page_source, 'html.parser')\n",
        "sentences = soup.find_all('span', class_ = 'search_word_type1_17')\n",
        "sentence_list = list()\n",
        "result = list()\n",
        "if sentences:\n",
        "  for each_data in sentences:\n",
        "    sentence = each_data.text\n",
        "    change = '□' * len(search_word)\n",
        "    sentence = sentence.replace(search_word, change)\n",
        "    sentence_list.append(sentence)\n",
        "  for value in sentence_list:\n",
        "    if value not in result:\n",
        "      result.append(value)\n",
        "print(result)\n",
        "\n"
      ],
      "metadata": {
        "colab": {
          "base_uri": "https://localhost:8080/"
        },
        "id": "uEzJb6yk_pyg",
        "outputId": "bc3ed2b6-c5ff-4398-e169-222c45002600"
      },
      "execution_count": null,
      "outputs": [
        {
          "output_type": "stream",
          "name": "stdout",
          "text": [
            "['□□□ 못된 것은 엉덩이에 뿔 난다', '□□□ 천자(千字) 가르치듯', '□□□ 팔러 가는 날 아침에 □□□ 엉치에서 뿔이 난다', '과부 집 □□□ 백정 부르러 간 줄 모르고 날뛴다', '높은 데 □□□ 간 발자국만 있고 온 발자국은 없다', '대신 댁 □□□ 백정 무서운 줄 모른다', '들 적 며느리 날 적 □□□', '목마른 □□□ 우물 들여다보듯', '목맨 □□□', '못된 □□□ 뿔부터 난다']\n"
          ]
        }
      ]
    },
    {
      "cell_type": "code",
      "source": [
        "i=0\n",
        "if len(result)<3 :\n",
        "  print('관용구 또는 속담 수가 부족합니다.')\n",
        "else:\n",
        "  while i<3:\n",
        "    print(result[i])\n",
        "    i+=1"
      ],
      "metadata": {
        "colab": {
          "base_uri": "https://localhost:8080/"
        },
        "id": "bJJtJMvfAKLd",
        "outputId": "05569adf-86ba-47ad-ed8c-96a1f2263020"
      },
      "execution_count": null,
      "outputs": [
        {
          "output_type": "stream",
          "name": "stdout",
          "text": [
            "□□□ 못된 것은 엉덩이에 뿔 난다\n",
            "□□□ 천자(千字) 가르치듯\n",
            "□□□ 팔러 가는 날 아침에 □□□ 엉치에서 뿔이 난다\n"
          ]
        }
      ]
    }
  ]
}