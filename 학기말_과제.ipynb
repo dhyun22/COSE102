{
  "nbformat": 4,
  "nbformat_minor": 0,
  "metadata": {
    "colab": {
      "provenance": [],
      "authorship_tag": "ABX9TyNuof83S9Cei7V88FEK9Ic4",
      "include_colab_link": true
    },
    "kernelspec": {
      "name": "python3",
      "display_name": "Python 3"
    },
    "language_info": {
      "name": "python"
    }
  },
  "cells": [
    {
      "cell_type": "markdown",
      "metadata": {
        "id": "view-in-github",
        "colab_type": "text"
      },
      "source": [
        "<a href=\"https://colab.research.google.com/github/dhyun22/COSE102/blob/main/%ED%95%99%EA%B8%B0%EB%A7%90_%EA%B3%BC%EC%A0%9C.ipynb\" target=\"_parent\"><img src=\"https://colab.research.google.com/assets/colab-badge.svg\" alt=\"Open In Colab\"/></a>"
      ]
    },
    {
      "cell_type": "code",
      "source": [
        "import sys\n",
        "!sudo add-apt-repository ppa:saiarcot895/chromium-beta\n",
        "!sudo apt remove chromium-browser\n",
        "!sudo snap remove chromium\n",
        "!sudo apt install chromium-browser\n",
        "!pip install selenium\n",
        "!apt-get update\n",
        "!apt install chromium-chromedriver\n",
        "!cp /usr/lib/chromium-browser/chromedriver /usr/bin\n",
        "sys.path.insert(0, '/usr/lib/chromium-browser/chromedriver')"
      ],
      "metadata": {
        "id": "n600gjFeMYuf",
        "colab": {
          "base_uri": "https://localhost:8080/"
        },
        "outputId": "665aa2e8-be5a-4783-ec20-d7c3101c2c8c"
      },
      "execution_count": null,
      "outputs": [
        {
          "output_type": "stream",
          "name": "stdout",
          "text": [
            "PPA publishes dbgsym, you may need to include 'main/debug' component\n",
            "Repository: 'deb https://ppa.launchpadcontent.net/saiarcot895/chromium-beta/ubuntu/ jammy main'\n",
            "Description:\n",
            "This PPA contains the latest Chromium Beta builds, with hardware video decoding enabled (hidden behind a flag), and support for Widevine (needed for viewing many DRM-protected videos) enabled.\n",
            "\n",
            "== Hardware Video Decoding ==\n",
            "\n",
            "To enable hardware video decoding, start Chromium with the --enable-features=VaapiVideoDecoder argument. To make this persistent, create a file at /etc/chromium-browser/customizations/92-vaapi-hardware-decoding with the following contents:\n",
            "\n",
            "CHROMIUM_FLAGS=\"${CHROMIUM_FLAGS} --enable-features=VaapiVideoDecoder\"\n",
            "\n",
            "See also https://wiki.archlinux.org/title/Chromium#Hardware_video_acceleration for more information on VAAPI video decoding support.\n",
            "\n",
            "=== Widevine Support ===\n",
            "\n",
            "The packages in this PPA have support for Widevine inside Chromium enabled. However, you still need to copy some files from Chrome into Chromium for you to use Netflix (or other websites using Encrypted Media Extensions) in Chromium.\n",
            "\n",
            "1. Download and install Chrome (or extract the necessary files, if you know how to do that).\n",
            "2. From the Chrome installation directory (probably /opt/google/chome or something similar), copy libwidevinecdm.so into ~/.config/chromium.\n",
            "3. Restart Chromium.\n",
            "\n",
            "=== Preventing falling back to the standard version of Chromium ===\n",
            "\n",
            "Sometimes, this PPA doesn't get updated within a few days of a release, and in some cases, the version of Chromium in the standard Ubuntu repos may be newer than the version provided by the PPA. If you want to prevent apt from updating to the version in the standard Ubuntu repos, add the following three lines into /etc/apt/preferences.d/chromium:\n",
            "\n",
            "Package: *\n",
            "Pin: release o=LP-PPA-saiarcot895-chromium-beta\n",
            "Pin-Priority: 700\n",
            "\n",
            "=== Help ===\n",
            "\n",
            "If you need help with installing Chromium or notice stuff not working that should normally work, click on my name below in the \"Adding this PPA to your system\" section.\n",
            "\n",
            "=== Packaging ===\n",
            "\n",
            "Packaging for this PPA is at https://github.com/saiarcot895/chromium-ubuntu-build. A separate branch is created for each upstream branch number.\n",
            "More info: https://launchpad.net/~saiarcot895/+archive/ubuntu/chromium-beta\n",
            "Adding repository.\n",
            "Press [ENTER] to continue or Ctrl-c to cancel.\n",
            "Adding deb entry to /etc/apt/sources.list.d/saiarcot895-ubuntu-chromium-beta-jammy.list\n",
            "Adding disabled deb-src entry to /etc/apt/sources.list.d/saiarcot895-ubuntu-chromium-beta-jammy.list\n",
            "Adding key to /etc/apt/trusted.gpg.d/saiarcot895-ubuntu-chromium-beta.gpg with fingerprint E6200BDA4A746F2A1F7FFD3FE6A17451DC058F40\n",
            "Get:1 https://cloud.r-project.org/bin/linux/ubuntu jammy-cran40/ InRelease [3,626 B]\n",
            "Hit:2 http://archive.ubuntu.com/ubuntu jammy InRelease\n",
            "Get:3 http://security.ubuntu.com/ubuntu jammy-security InRelease [110 kB]\n",
            "Hit:4 https://developer.download.nvidia.com/compute/cuda/repos/ubuntu2204/x86_64  InRelease\n",
            "Get:5 http://archive.ubuntu.com/ubuntu jammy-updates InRelease [119 kB]\n",
            "Hit:6 http://archive.ubuntu.com/ubuntu jammy-backports InRelease\n",
            "Hit:7 https://ppa.launchpadcontent.net/c2d4u.team/c2d4u4.0+/ubuntu jammy InRelease\n",
            "Hit:8 https://ppa.launchpadcontent.net/deadsnakes/ppa/ubuntu jammy InRelease\n",
            "Hit:9 https://ppa.launchpadcontent.net/graphics-drivers/ppa/ubuntu jammy InRelease\n",
            "Get:10 https://ppa.launchpadcontent.net/saiarcot895/chromium-beta/ubuntu jammy InRelease [23.8 kB]\n",
            "Hit:11 https://ppa.launchpadcontent.net/ubuntugis/ppa/ubuntu jammy InRelease\n",
            "Get:12 http://security.ubuntu.com/ubuntu jammy-security/universe amd64 Packages [1,046 kB]\n",
            "Get:13 http://archive.ubuntu.com/ubuntu jammy-updates/universe amd64 Packages [1,305 kB]\n",
            "Get:14 http://security.ubuntu.com/ubuntu jammy-security/main amd64 Packages [1,326 kB]\n",
            "Get:15 http://archive.ubuntu.com/ubuntu jammy-updates/main amd64 Packages [1,599 kB]\n",
            "Get:16 https://ppa.launchpadcontent.net/saiarcot895/chromium-beta/ubuntu jammy/main amd64 Packages [1,795 B]\n",
            "Fetched 5,534 kB in 4s (1,267 kB/s)\n",
            "Reading package lists... Done\n",
            "Reading package lists... Done\n",
            "Building dependency tree... Done\n",
            "Reading state information... Done\n",
            "Package 'chromium-browser' is not installed, so not removed\n",
            "0 upgraded, 0 newly installed, 0 to remove and 27 not upgraded.\n",
            "sudo: snap: command not found\n",
            "Reading package lists... Done\n",
            "Building dependency tree... Done\n",
            "Reading state information... Done\n",
            "The following additional packages will be installed:\n",
            "  chromium-browser-l10n chromium-codecs-ffmpeg-extra libcanberra0 libevdev2\n",
            "  libgudev-1.0-0 libinput-bin libinput10 libmd4c0 libmtdev1 libpipewire-0.3-0\n",
            "  libpipewire-0.3-common libpipewire-0.3-modules libqt5core5a libqt5dbus5\n",
            "  libqt5gui5 libqt5network5 libqt5svg5 libqt5widgets5 libspa-0.2-modules\n",
            "  libtdb1 libva-wayland2 libwacom-bin libwacom-common libwacom9\n",
            "  libwebrtc-audio-processing1 libxcb-icccm4 libxcb-image0 libxcb-keysyms1\n",
            "  libxcb-render-util0 libxcb-util1 libxcb-xinerama0 libxcb-xinput0 libxcb-xkb1\n",
            "  libxkbcommon-x11-0 libxtst6 pipewire pipewire-bin pipewire-media-session\n",
            "  qt5-gtk-platformtheme qttranslations5-l10n rtkit sound-theme-freedesktop\n",
            "Suggested packages:\n",
            "  webaccounts-chromium-extension unity-chromium-extension chromiumflashplugin\n",
            "  libcanberra-gtk0 libcanberra-pulse qt5-image-formats-plugins qtwayland5\n",
            "The following NEW packages will be installed:\n",
            "  chromium-browser chromium-browser-l10n chromium-codecs-ffmpeg-extra\n",
            "  libcanberra0 libevdev2 libgudev-1.0-0 libinput-bin libinput10 libmd4c0\n",
            "  libmtdev1 libpipewire-0.3-0 libpipewire-0.3-common libpipewire-0.3-modules\n",
            "  libqt5core5a libqt5dbus5 libqt5gui5 libqt5network5 libqt5svg5 libqt5widgets5\n",
            "  libspa-0.2-modules libtdb1 libva-wayland2 libwacom-bin libwacom-common\n",
            "  libwacom9 libwebrtc-audio-processing1 libxcb-icccm4 libxcb-image0\n",
            "  libxcb-keysyms1 libxcb-render-util0 libxcb-util1 libxcb-xinerama0\n",
            "  libxcb-xinput0 libxcb-xkb1 libxkbcommon-x11-0 libxtst6 pipewire pipewire-bin\n",
            "  pipewire-media-session qt5-gtk-platformtheme qttranslations5-l10n rtkit\n",
            "  sound-theme-freedesktop\n",
            "0 upgraded, 43 newly installed, 0 to remove and 27 not upgraded.\n",
            "Need to get 113 MB of archives.\n",
            "After this operation, 451 MB of additional disk space will be used.\n",
            "Get:1 http://archive.ubuntu.com/ubuntu jammy/main amd64 libwebrtc-audio-processing1 amd64 0.3.1-0ubuntu5 [291 kB]\n",
            "Get:2 http://archive.ubuntu.com/ubuntu jammy-updates/main amd64 libspa-0.2-modules amd64 0.3.48-1ubuntu3 [546 kB]\n",
            "Get:3 http://archive.ubuntu.com/ubuntu jammy-updates/main amd64 libpipewire-0.3-0 amd64 0.3.48-1ubuntu3 [274 kB]\n",
            "Get:4 http://archive.ubuntu.com/ubuntu jammy-updates/universe amd64 libqt5core5a amd64 5.15.3+dfsg-2ubuntu0.2 [2,006 kB]\n",
            "Get:5 http://archive.ubuntu.com/ubuntu jammy/main amd64 libevdev2 amd64 1.12.1+dfsg-1 [39.5 kB]\n",
            "Get:6 http://archive.ubuntu.com/ubuntu jammy/main amd64 libmtdev1 amd64 1.1.6-1build4 [14.5 kB]\n",
            "Get:7 http://archive.ubuntu.com/ubuntu jammy/main amd64 libgudev-1.0-0 amd64 1:237-2build1 [16.3 kB]\n",
            "Get:8 http://archive.ubuntu.com/ubuntu jammy/main amd64 libwacom-common all 2.2.0-1 [54.3 kB]\n",
            "Get:9 http://archive.ubuntu.com/ubuntu jammy/main amd64 libwacom9 amd64 2.2.0-1 [22.0 kB]\n",
            "Get:10 http://archive.ubuntu.com/ubuntu jammy-updates/main amd64 libinput-bin amd64 1.20.0-1ubuntu0.3 [19.9 kB]\n",
            "Get:11 http://archive.ubuntu.com/ubuntu jammy-updates/main amd64 libinput10 amd64 1.20.0-1ubuntu0.3 [131 kB]\n",
            "Get:12 https://ppa.launchpadcontent.net/saiarcot895/chromium-beta/ubuntu jammy/main amd64 chromium-codecs-ffmpeg-extra amd64 1:108.0.5359.40-0ubuntu1~ppa1~22.04.1 [1,299 kB]\n",
            "Get:13 http://archive.ubuntu.com/ubuntu jammy/universe amd64 libmd4c0 amd64 0.4.8-1 [42.0 kB]\n",
            "Get:14 http://archive.ubuntu.com/ubuntu jammy-updates/universe amd64 libqt5dbus5 amd64 5.15.3+dfsg-2ubuntu0.2 [222 kB]\n",
            "Get:15 http://archive.ubuntu.com/ubuntu jammy-updates/universe amd64 libqt5network5 amd64 5.15.3+dfsg-2ubuntu0.2 [731 kB]\n",
            "Get:16 http://archive.ubuntu.com/ubuntu jammy/main amd64 libxcb-icccm4 amd64 0.4.1-1.1build2 [11.5 kB]\n",
            "Get:17 http://archive.ubuntu.com/ubuntu jammy/main amd64 libxcb-util1 amd64 0.4.0-1build2 [11.4 kB]\n",
            "Get:18 http://archive.ubuntu.com/ubuntu jammy/main amd64 libxcb-image0 amd64 0.4.0-2 [11.5 kB]\n",
            "Get:19 http://archive.ubuntu.com/ubuntu jammy/main amd64 libxcb-keysyms1 amd64 0.4.0-1build3 [8,746 B]\n",
            "Get:20 http://archive.ubuntu.com/ubuntu jammy/main amd64 libxcb-render-util0 amd64 0.3.9-1build3 [10.3 kB]\n",
            "Get:21 http://archive.ubuntu.com/ubuntu jammy/main amd64 libxcb-xinerama0 amd64 1.14-3ubuntu3 [5,414 B]\n",
            "Get:22 http://archive.ubuntu.com/ubuntu jammy/main amd64 libxcb-xinput0 amd64 1.14-3ubuntu3 [34.3 kB]\n",
            "Get:23 http://archive.ubuntu.com/ubuntu jammy/main amd64 libxcb-xkb1 amd64 1.14-3ubuntu3 [32.8 kB]\n",
            "Get:24 http://archive.ubuntu.com/ubuntu jammy/main amd64 libxkbcommon-x11-0 amd64 1.4.0-1 [14.4 kB]\n",
            "Get:25 http://archive.ubuntu.com/ubuntu jammy-updates/universe amd64 libqt5gui5 amd64 5.15.3+dfsg-2ubuntu0.2 [3,722 kB]\n",
            "Get:26 http://archive.ubuntu.com/ubuntu jammy-updates/universe amd64 libqt5widgets5 amd64 5.15.3+dfsg-2ubuntu0.2 [2,561 kB]\n",
            "Get:27 http://archive.ubuntu.com/ubuntu jammy/main amd64 libxtst6 amd64 2:1.2.3-1build4 [13.4 kB]\n",
            "Get:28 http://archive.ubuntu.com/ubuntu jammy/universe amd64 libqt5svg5 amd64 5.15.3-1 [149 kB]\n",
            "Get:29 http://archive.ubuntu.com/ubuntu jammy/main amd64 libtdb1 amd64 1.4.5-2build1 [46.4 kB]\n",
            "Get:30 http://archive.ubuntu.com/ubuntu jammy/main amd64 sound-theme-freedesktop all 0.8-2ubuntu1 [384 kB]\n",
            "Get:31 http://archive.ubuntu.com/ubuntu jammy-updates/main amd64 libcanberra0 amd64 0.30-10ubuntu1.22.04.1 [40.0 kB]\n",
            "Get:32 http://archive.ubuntu.com/ubuntu jammy-updates/main amd64 libpipewire-0.3-common all 0.3.48-1ubuntu3 [3,982 B]\n",
            "Get:33 http://archive.ubuntu.com/ubuntu jammy-updates/main amd64 libpipewire-0.3-modules amd64 0.3.48-1ubuntu3 [525 kB]\n",
            "Get:34 http://archive.ubuntu.com/ubuntu jammy/universe amd64 libva-wayland2 amd64 2.14.0-1 [9,784 B]\n",
            "Get:35 http://archive.ubuntu.com/ubuntu jammy/main amd64 libwacom-bin amd64 2.2.0-1 [13.6 kB]\n",
            "Get:36 http://archive.ubuntu.com/ubuntu jammy-updates/main amd64 pipewire-bin amd64 0.3.48-1ubuntu3 [312 kB]\n",
            "Get:37 http://archive.ubuntu.com/ubuntu jammy-updates/main amd64 pipewire amd64 0.3.48-1ubuntu3 [3,964 B]\n",
            "Get:38 http://archive.ubuntu.com/ubuntu jammy/main amd64 pipewire-media-session amd64 0.4.1-2ubuntu1 [128 kB]\n",
            "Get:39 http://archive.ubuntu.com/ubuntu jammy-updates/universe amd64 qt5-gtk-platformtheme amd64 5.15.3+dfsg-2ubuntu0.2 [130 kB]\n",
            "Get:40 http://archive.ubuntu.com/ubuntu jammy/universe amd64 qttranslations5-l10n all 5.15.3-1 [1,983 kB]\n",
            "Get:41 http://archive.ubuntu.com/ubuntu jammy/main amd64 rtkit amd64 0.13-4build2 [35.1 kB]\n",
            "Get:42 https://ppa.launchpadcontent.net/saiarcot895/chromium-beta/ubuntu jammy/main amd64 chromium-browser amd64 1:108.0.5359.40-0ubuntu1~ppa1~22.04.1 [91.5 MB]\n",
            "Get:43 https://ppa.launchpadcontent.net/saiarcot895/chromium-beta/ubuntu jammy/main amd64 chromium-browser-l10n all 1:108.0.5359.40-0ubuntu1~ppa1~22.04.1 [5,890 kB]\n",
            "Fetched 113 MB in 7s (15.4 MB/s)\n",
            "debconf: unable to initialize frontend: Dialog\n",
            "debconf: (No usable dialog-like program is installed, so the dialog based frontend cannot be used. at /usr/share/perl5/Debconf/FrontEnd/Dialog.pm line 78, <> line 43.)\n",
            "debconf: falling back to frontend: Readline\n",
            "debconf: unable to initialize frontend: Readline\n",
            "debconf: (This frontend requires a controlling tty.)\n",
            "debconf: falling back to frontend: Teletype\n",
            "dpkg-preconfigure: unable to re-open stdin: \n",
            "Selecting previously unselected package libwebrtc-audio-processing1:amd64.\n",
            "(Reading database ... 121658 files and directories currently installed.)\n",
            "Preparing to unpack .../00-libwebrtc-audio-processing1_0.3.1-0ubuntu5_amd64.deb ...\n",
            "Unpacking libwebrtc-audio-processing1:amd64 (0.3.1-0ubuntu5) ...\n",
            "Selecting previously unselected package libspa-0.2-modules:amd64.\n",
            "Preparing to unpack .../01-libspa-0.2-modules_0.3.48-1ubuntu3_amd64.deb ...\n",
            "Unpacking libspa-0.2-modules:amd64 (0.3.48-1ubuntu3) ...\n",
            "Selecting previously unselected package libpipewire-0.3-0:amd64.\n",
            "Preparing to unpack .../02-libpipewire-0.3-0_0.3.48-1ubuntu3_amd64.deb ...\n",
            "Unpacking libpipewire-0.3-0:amd64 (0.3.48-1ubuntu3) ...\n",
            "Selecting previously unselected package libqt5core5a:amd64.\n",
            "Preparing to unpack .../03-libqt5core5a_5.15.3+dfsg-2ubuntu0.2_amd64.deb ...\n",
            "Unpacking libqt5core5a:amd64 (5.15.3+dfsg-2ubuntu0.2) ...\n",
            "Selecting previously unselected package libevdev2:amd64.\n",
            "Preparing to unpack .../04-libevdev2_1.12.1+dfsg-1_amd64.deb ...\n",
            "Unpacking libevdev2:amd64 (1.12.1+dfsg-1) ...\n",
            "Selecting previously unselected package libmtdev1:amd64.\n",
            "Preparing to unpack .../05-libmtdev1_1.1.6-1build4_amd64.deb ...\n",
            "Unpacking libmtdev1:amd64 (1.1.6-1build4) ...\n",
            "Selecting previously unselected package libgudev-1.0-0:amd64.\n",
            "Preparing to unpack .../06-libgudev-1.0-0_1%3a237-2build1_amd64.deb ...\n",
            "Unpacking libgudev-1.0-0:amd64 (1:237-2build1) ...\n",
            "Selecting previously unselected package libwacom-common.\n",
            "Preparing to unpack .../07-libwacom-common_2.2.0-1_all.deb ...\n",
            "Unpacking libwacom-common (2.2.0-1) ...\n",
            "Selecting previously unselected package libwacom9:amd64.\n",
            "Preparing to unpack .../08-libwacom9_2.2.0-1_amd64.deb ...\n",
            "Unpacking libwacom9:amd64 (2.2.0-1) ...\n",
            "Selecting previously unselected package libinput-bin.\n",
            "Preparing to unpack .../09-libinput-bin_1.20.0-1ubuntu0.3_amd64.deb ...\n",
            "Unpacking libinput-bin (1.20.0-1ubuntu0.3) ...\n",
            "Selecting previously unselected package libinput10:amd64.\n",
            "Preparing to unpack .../10-libinput10_1.20.0-1ubuntu0.3_amd64.deb ...\n",
            "Unpacking libinput10:amd64 (1.20.0-1ubuntu0.3) ...\n",
            "Selecting previously unselected package libmd4c0:amd64.\n",
            "Preparing to unpack .../11-libmd4c0_0.4.8-1_amd64.deb ...\n",
            "Unpacking libmd4c0:amd64 (0.4.8-1) ...\n",
            "Selecting previously unselected package libqt5dbus5:amd64.\n",
            "Preparing to unpack .../12-libqt5dbus5_5.15.3+dfsg-2ubuntu0.2_amd64.deb ...\n",
            "Unpacking libqt5dbus5:amd64 (5.15.3+dfsg-2ubuntu0.2) ...\n",
            "Selecting previously unselected package libqt5network5:amd64.\n",
            "Preparing to unpack .../13-libqt5network5_5.15.3+dfsg-2ubuntu0.2_amd64.deb ...\n",
            "Unpacking libqt5network5:amd64 (5.15.3+dfsg-2ubuntu0.2) ...\n",
            "Selecting previously unselected package libxcb-icccm4:amd64.\n",
            "Preparing to unpack .../14-libxcb-icccm4_0.4.1-1.1build2_amd64.deb ...\n",
            "Unpacking libxcb-icccm4:amd64 (0.4.1-1.1build2) ...\n",
            "Selecting previously unselected package libxcb-util1:amd64.\n",
            "Preparing to unpack .../15-libxcb-util1_0.4.0-1build2_amd64.deb ...\n",
            "Unpacking libxcb-util1:amd64 (0.4.0-1build2) ...\n",
            "Selecting previously unselected package libxcb-image0:amd64.\n",
            "Preparing to unpack .../16-libxcb-image0_0.4.0-2_amd64.deb ...\n",
            "Unpacking libxcb-image0:amd64 (0.4.0-2) ...\n",
            "Selecting previously unselected package libxcb-keysyms1:amd64.\n",
            "Preparing to unpack .../17-libxcb-keysyms1_0.4.0-1build3_amd64.deb ...\n",
            "Unpacking libxcb-keysyms1:amd64 (0.4.0-1build3) ...\n",
            "Selecting previously unselected package libxcb-render-util0:amd64.\n",
            "Preparing to unpack .../18-libxcb-render-util0_0.3.9-1build3_amd64.deb ...\n",
            "Unpacking libxcb-render-util0:amd64 (0.3.9-1build3) ...\n",
            "Selecting previously unselected package libxcb-xinerama0:amd64.\n",
            "Preparing to unpack .../19-libxcb-xinerama0_1.14-3ubuntu3_amd64.deb ...\n",
            "Unpacking libxcb-xinerama0:amd64 (1.14-3ubuntu3) ...\n",
            "Selecting previously unselected package libxcb-xinput0:amd64.\n",
            "Preparing to unpack .../20-libxcb-xinput0_1.14-3ubuntu3_amd64.deb ...\n",
            "Unpacking libxcb-xinput0:amd64 (1.14-3ubuntu3) ...\n",
            "Selecting previously unselected package libxcb-xkb1:amd64.\n",
            "Preparing to unpack .../21-libxcb-xkb1_1.14-3ubuntu3_amd64.deb ...\n",
            "Unpacking libxcb-xkb1:amd64 (1.14-3ubuntu3) ...\n",
            "Selecting previously unselected package libxkbcommon-x11-0:amd64.\n",
            "Preparing to unpack .../22-libxkbcommon-x11-0_1.4.0-1_amd64.deb ...\n",
            "Unpacking libxkbcommon-x11-0:amd64 (1.4.0-1) ...\n",
            "Selecting previously unselected package libqt5gui5:amd64.\n",
            "Preparing to unpack .../23-libqt5gui5_5.15.3+dfsg-2ubuntu0.2_amd64.deb ...\n",
            "Unpacking libqt5gui5:amd64 (5.15.3+dfsg-2ubuntu0.2) ...\n",
            "Selecting previously unselected package libqt5widgets5:amd64.\n",
            "Preparing to unpack .../24-libqt5widgets5_5.15.3+dfsg-2ubuntu0.2_amd64.deb ...\n",
            "Unpacking libqt5widgets5:amd64 (5.15.3+dfsg-2ubuntu0.2) ...\n",
            "Selecting previously unselected package libxtst6:amd64.\n",
            "Preparing to unpack .../25-libxtst6_2%3a1.2.3-1build4_amd64.deb ...\n",
            "Unpacking libxtst6:amd64 (2:1.2.3-1build4) ...\n",
            "Selecting previously unselected package chromium-codecs-ffmpeg-extra.\n",
            "Preparing to unpack .../26-chromium-codecs-ffmpeg-extra_1%3a108.0.5359.40-0ubuntu1~ppa1~22.04.1_amd64.deb ...\n",
            "Unpacking chromium-codecs-ffmpeg-extra (1:108.0.5359.40-0ubuntu1~ppa1~22.04.1) ...\n",
            "Selecting previously unselected package chromium-browser.\n",
            "Preparing to unpack .../27-chromium-browser_1%3a108.0.5359.40-0ubuntu1~ppa1~22.04.1_amd64.deb ...\n",
            "Unpacking chromium-browser (1:108.0.5359.40-0ubuntu1~ppa1~22.04.1) ...\n",
            "Selecting previously unselected package chromium-browser-l10n.\n",
            "Preparing to unpack .../28-chromium-browser-l10n_1%3a108.0.5359.40-0ubuntu1~ppa1~22.04.1_all.deb ...\n",
            "Unpacking chromium-browser-l10n (1:108.0.5359.40-0ubuntu1~ppa1~22.04.1) ...\n",
            "Selecting previously unselected package libqt5svg5:amd64.\n",
            "Preparing to unpack .../29-libqt5svg5_5.15.3-1_amd64.deb ...\n",
            "Unpacking libqt5svg5:amd64 (5.15.3-1) ...\n",
            "Selecting previously unselected package libtdb1:amd64.\n",
            "Preparing to unpack .../30-libtdb1_1.4.5-2build1_amd64.deb ...\n",
            "Unpacking libtdb1:amd64 (1.4.5-2build1) ...\n",
            "Selecting previously unselected package sound-theme-freedesktop.\n",
            "Preparing to unpack .../31-sound-theme-freedesktop_0.8-2ubuntu1_all.deb ...\n",
            "Unpacking sound-theme-freedesktop (0.8-2ubuntu1) ...\n",
            "Selecting previously unselected package libcanberra0:amd64.\n",
            "Preparing to unpack .../32-libcanberra0_0.30-10ubuntu1.22.04.1_amd64.deb ...\n",
            "Unpacking libcanberra0:amd64 (0.30-10ubuntu1.22.04.1) ...\n",
            "Selecting previously unselected package libpipewire-0.3-common.\n",
            "Preparing to unpack .../33-libpipewire-0.3-common_0.3.48-1ubuntu3_all.deb ...\n",
            "Unpacking libpipewire-0.3-common (0.3.48-1ubuntu3) ...\n",
            "Selecting previously unselected package libpipewire-0.3-modules:amd64.\n",
            "Preparing to unpack .../34-libpipewire-0.3-modules_0.3.48-1ubuntu3_amd64.deb ...\n",
            "Unpacking libpipewire-0.3-modules:amd64 (0.3.48-1ubuntu3) ...\n",
            "Selecting previously unselected package libva-wayland2:amd64.\n",
            "Preparing to unpack .../35-libva-wayland2_2.14.0-1_amd64.deb ...\n",
            "Unpacking libva-wayland2:amd64 (2.14.0-1) ...\n",
            "Selecting previously unselected package libwacom-bin.\n",
            "Preparing to unpack .../36-libwacom-bin_2.2.0-1_amd64.deb ...\n",
            "Unpacking libwacom-bin (2.2.0-1) ...\n",
            "Selecting previously unselected package pipewire-bin.\n",
            "Preparing to unpack .../37-pipewire-bin_0.3.48-1ubuntu3_amd64.deb ...\n",
            "Unpacking pipewire-bin (0.3.48-1ubuntu3) ...\n",
            "Selecting previously unselected package pipewire:amd64.\n",
            "Preparing to unpack .../38-pipewire_0.3.48-1ubuntu3_amd64.deb ...\n",
            "Unpacking pipewire:amd64 (0.3.48-1ubuntu3) ...\n",
            "Selecting previously unselected package pipewire-media-session.\n",
            "Preparing to unpack .../39-pipewire-media-session_0.4.1-2ubuntu1_amd64.deb ...\n",
            "Unpacking pipewire-media-session (0.4.1-2ubuntu1) ...\n",
            "Selecting previously unselected package qt5-gtk-platformtheme:amd64.\n",
            "Preparing to unpack .../40-qt5-gtk-platformtheme_5.15.3+dfsg-2ubuntu0.2_amd64.deb ...\n",
            "Unpacking qt5-gtk-platformtheme:amd64 (5.15.3+dfsg-2ubuntu0.2) ...\n",
            "Selecting previously unselected package qttranslations5-l10n.\n",
            "Preparing to unpack .../41-qttranslations5-l10n_5.15.3-1_all.deb ...\n",
            "Unpacking qttranslations5-l10n (5.15.3-1) ...\n",
            "Selecting previously unselected package rtkit.\n",
            "Preparing to unpack .../42-rtkit_0.13-4build2_amd64.deb ...\n",
            "Unpacking rtkit (0.13-4build2) ...\n",
            "Setting up libpipewire-0.3-common (0.3.48-1ubuntu3) ...\n",
            "Setting up rtkit (0.13-4build2) ...\n",
            "invoke-rc.d: could not determine current runlevel\n",
            "invoke-rc.d: policy-rc.d denied execution of force-reload.\n",
            "Setting up chromium-codecs-ffmpeg-extra (1:108.0.5359.40-0ubuntu1~ppa1~22.04.1) ...\n",
            "Setting up libxcb-xinput0:amd64 (1.14-3ubuntu3) ...\n",
            "Setting up libtdb1:amd64 (1.4.5-2build1) ...\n",
            "Setting up libxtst6:amd64 (2:1.2.3-1build4) ...\n",
            "Setting up libxcb-keysyms1:amd64 (0.4.0-1build3) ...\n",
            "Setting up libwebrtc-audio-processing1:amd64 (0.3.1-0ubuntu5) ...\n",
            "Setting up libxcb-render-util0:amd64 (0.3.9-1build3) ...\n",
            "Setting up libxcb-icccm4:amd64 (0.4.1-1.1build2) ...\n",
            "Setting up libxcb-util1:amd64 (0.4.0-1build2) ...\n",
            "Setting up libxcb-xkb1:amd64 (1.14-3ubuntu3) ...\n",
            "Setting up libxcb-image0:amd64 (0.4.0-2) ...\n",
            "Setting up libxcb-xinerama0:amd64 (1.14-3ubuntu3) ...\n",
            "Setting up qttranslations5-l10n (5.15.3-1) ...\n",
            "Setting up libspa-0.2-modules:amd64 (0.3.48-1ubuntu3) ...\n",
            "Setting up libpipewire-0.3-0:amd64 (0.3.48-1ubuntu3) ...\n",
            "Setting up libxkbcommon-x11-0:amd64 (1.4.0-1) ...\n",
            "Setting up libqt5core5a:amd64 (5.15.3+dfsg-2ubuntu0.2) ...\n",
            "Setting up libmtdev1:amd64 (1.1.6-1build4) ...\n",
            "Setting up libva-wayland2:amd64 (2.14.0-1) ...\n",
            "Setting up sound-theme-freedesktop (0.8-2ubuntu1) ...\n",
            "Setting up libqt5dbus5:amd64 (5.15.3+dfsg-2ubuntu0.2) ...\n",
            "Setting up libmd4c0:amd64 (0.4.8-1) ...\n",
            "Setting up libevdev2:amd64 (1.12.1+dfsg-1) ...\n",
            "Setting up libgudev-1.0-0:amd64 (1:237-2build1) ...\n",
            "Setting up libwacom-common (2.2.0-1) ...\n",
            "Setting up libcanberra0:amd64 (0.30-10ubuntu1.22.04.1) ...\n",
            "Setting up libwacom9:amd64 (2.2.0-1) ...\n",
            "Setting up libqt5network5:amd64 (5.15.3+dfsg-2ubuntu0.2) ...\n",
            "Setting up libinput-bin (1.20.0-1ubuntu0.3) ...\n",
            "Setting up libpipewire-0.3-modules:amd64 (0.3.48-1ubuntu3) ...\n",
            "Setting up libwacom-bin (2.2.0-1) ...\n",
            "Setting up libinput10:amd64 (1.20.0-1ubuntu0.3) ...\n",
            "Setting up libqt5gui5:amd64 (5.15.3+dfsg-2ubuntu0.2) ...\n",
            "Setting up libqt5widgets5:amd64 (5.15.3+dfsg-2ubuntu0.2) ...\n",
            "Setting up qt5-gtk-platformtheme:amd64 (5.15.3+dfsg-2ubuntu0.2) ...\n",
            "Setting up pipewire-bin (0.3.48-1ubuntu3) ...\n",
            "Setting up chromium-browser (1:108.0.5359.40-0ubuntu1~ppa1~22.04.1) ...\n",
            "update-alternatives: using /usr/bin/chromium-browser to provide /usr/bin/x-www-browser (x-www-browser) in auto mode\n",
            "update-alternatives: using /usr/bin/chromium-browser to provide /usr/bin/gnome-www-browser (gnome-www-browser) in auto mode\n",
            "Setting up chromium-browser-l10n (1:108.0.5359.40-0ubuntu1~ppa1~22.04.1) ...\n",
            "Setting up pipewire:amd64 (0.3.48-1ubuntu3) ...\n",
            "Created symlink /etc/systemd/user/default.target.wants/pipewire.service → /usr/lib/systemd/user/pipewire.service.\n",
            "Created symlink /etc/systemd/user/sockets.target.wants/pipewire.socket → /usr/lib/systemd/user/pipewire.socket.\n",
            "Setting up libqt5svg5:amd64 (5.15.3-1) ...\n",
            "Setting up pipewire-media-session (0.4.1-2ubuntu1) ...\n",
            "Created symlink /etc/systemd/user/pipewire-session-manager.service → /usr/lib/systemd/user/pipewire-media-session.service.\n",
            "Created symlink /etc/systemd/user/pipewire.service.wants/pipewire-media-session.service → /usr/lib/systemd/user/pipewire-media-session.service.\n",
            "Processing triggers for libc-bin (2.35-0ubuntu3.4) ...\n",
            "/sbin/ldconfig.real: /usr/local/lib/libtbbbind.so.3 is not a symbolic link\n",
            "\n",
            "/sbin/ldconfig.real: /usr/local/lib/libtbbbind_2_5.so.3 is not a symbolic link\n",
            "\n",
            "/sbin/ldconfig.real: /usr/local/lib/libtbbmalloc.so.2 is not a symbolic link\n",
            "\n",
            "/sbin/ldconfig.real: /usr/local/lib/libtbbbind_2_0.so.3 is not a symbolic link\n",
            "\n",
            "/sbin/ldconfig.real: /usr/local/lib/libtbb.so.12 is not a symbolic link\n",
            "\n",
            "/sbin/ldconfig.real: /usr/local/lib/libtbbmalloc_proxy.so.2 is not a symbolic link\n",
            "\n",
            "Processing triggers for man-db (2.10.2-1) ...\n",
            "Processing triggers for dbus (1.12.20-2ubuntu4.1) ...\n",
            "Processing triggers for hicolor-icon-theme (0.17-2) ...\n",
            "Collecting selenium\n",
            "  Downloading selenium-4.16.0-py3-none-any.whl (10.0 MB)\n",
            "\u001b[2K     \u001b[90m━━━━━━━━━━━━━━━━━━━━━━━━━━━━━━━━━━━━━━━━\u001b[0m \u001b[32m10.0/10.0 MB\u001b[0m \u001b[31m12.4 MB/s\u001b[0m eta \u001b[36m0:00:00\u001b[0m\n",
            "\u001b[?25hRequirement already satisfied: urllib3[socks]<3,>=1.26 in /usr/local/lib/python3.10/dist-packages (from selenium) (2.0.7)\n",
            "Collecting trio~=0.17 (from selenium)\n",
            "  Downloading trio-0.23.2-py3-none-any.whl (461 kB)\n",
            "\u001b[2K     \u001b[90m━━━━━━━━━━━━━━━━━━━━━━━━━━━━━━━━━━━━━━━━\u001b[0m \u001b[32m461.6/461.6 kB\u001b[0m \u001b[31m11.8 MB/s\u001b[0m eta \u001b[36m0:00:00\u001b[0m\n",
            "\u001b[?25hCollecting trio-websocket~=0.9 (from selenium)\n",
            "  Downloading trio_websocket-0.11.1-py3-none-any.whl (17 kB)\n",
            "Requirement already satisfied: certifi>=2021.10.8 in /usr/local/lib/python3.10/dist-packages (from selenium) (2023.11.17)\n",
            "Requirement already satisfied: attrs>=20.1.0 in /usr/local/lib/python3.10/dist-packages (from trio~=0.17->selenium) (23.1.0)\n",
            "Requirement already satisfied: sortedcontainers in /usr/local/lib/python3.10/dist-packages (from trio~=0.17->selenium) (2.4.0)\n",
            "Requirement already satisfied: idna in /usr/local/lib/python3.10/dist-packages (from trio~=0.17->selenium) (3.6)\n",
            "Collecting outcome (from trio~=0.17->selenium)\n",
            "  Downloading outcome-1.3.0.post0-py2.py3-none-any.whl (10 kB)\n",
            "Requirement already satisfied: sniffio>=1.3.0 in /usr/local/lib/python3.10/dist-packages (from trio~=0.17->selenium) (1.3.0)\n",
            "Requirement already satisfied: exceptiongroup in /usr/local/lib/python3.10/dist-packages (from trio~=0.17->selenium) (1.2.0)\n",
            "Collecting wsproto>=0.14 (from trio-websocket~=0.9->selenium)\n",
            "  Downloading wsproto-1.2.0-py3-none-any.whl (24 kB)\n",
            "Requirement already satisfied: pysocks!=1.5.7,<2.0,>=1.5.6 in /usr/local/lib/python3.10/dist-packages (from urllib3[socks]<3,>=1.26->selenium) (1.7.1)\n",
            "Collecting h11<1,>=0.9.0 (from wsproto>=0.14->trio-websocket~=0.9->selenium)\n",
            "  Downloading h11-0.14.0-py3-none-any.whl (58 kB)\n",
            "\u001b[2K     \u001b[90m━━━━━━━━━━━━━━━━━━━━━━━━━━━━━━━━━━━━━━━━\u001b[0m \u001b[32m58.3/58.3 kB\u001b[0m \u001b[31m4.8 MB/s\u001b[0m eta \u001b[36m0:00:00\u001b[0m\n",
            "\u001b[?25hInstalling collected packages: outcome, h11, wsproto, trio, trio-websocket, selenium\n",
            "Successfully installed h11-0.14.0 outcome-1.3.0.post0 selenium-4.16.0 trio-0.23.2 trio-websocket-0.11.1 wsproto-1.2.0\n",
            "Hit:1 https://cloud.r-project.org/bin/linux/ubuntu jammy-cran40/ InRelease\n",
            "Hit:2 http://security.ubuntu.com/ubuntu jammy-security InRelease\n",
            "Hit:3 http://archive.ubuntu.com/ubuntu jammy InRelease\n",
            "Hit:4 https://developer.download.nvidia.com/compute/cuda/repos/ubuntu2204/x86_64  InRelease\n",
            "Hit:5 http://archive.ubuntu.com/ubuntu jammy-updates InRelease\n",
            "Hit:6 http://archive.ubuntu.com/ubuntu jammy-backports InRelease\n",
            "Hit:7 https://ppa.launchpadcontent.net/c2d4u.team/c2d4u4.0+/ubuntu jammy InRelease\n",
            "Hit:8 https://ppa.launchpadcontent.net/deadsnakes/ppa/ubuntu jammy InRelease\n",
            "Hit:9 https://ppa.launchpadcontent.net/graphics-drivers/ppa/ubuntu jammy InRelease\n",
            "Hit:10 https://ppa.launchpadcontent.net/saiarcot895/chromium-beta/ubuntu jammy InRelease\n",
            "Hit:11 https://ppa.launchpadcontent.net/ubuntugis/ppa/ubuntu jammy InRelease\n",
            "Reading package lists... Done\n",
            "Reading package lists... Done\n",
            "Building dependency tree... Done\n",
            "Reading state information... Done\n",
            "The following NEW packages will be installed:\n",
            "  chromium-chromedriver\n",
            "0 upgraded, 1 newly installed, 0 to remove and 27 not upgraded.\n",
            "Need to get 6,015 kB of archives.\n",
            "After this operation, 17.0 MB of additional disk space will be used.\n",
            "Get:1 https://ppa.launchpadcontent.net/saiarcot895/chromium-beta/ubuntu jammy/main amd64 chromium-chromedriver amd64 1:108.0.5359.40-0ubuntu1~ppa1~22.04.1 [6,015 kB]\n",
            "Fetched 6,015 kB in 5s (1,167 kB/s)\n",
            "Selecting previously unselected package chromium-chromedriver.\n",
            "(Reading database ... 123172 files and directories currently installed.)\n",
            "Preparing to unpack .../chromium-chromedriver_1%3a108.0.5359.40-0ubuntu1~ppa1~22.04.1_amd64.deb ...\n",
            "Unpacking chromium-chromedriver (1:108.0.5359.40-0ubuntu1~ppa1~22.04.1) ...\n",
            "Setting up chromium-chromedriver (1:108.0.5359.40-0ubuntu1~ppa1~22.04.1) ...\n"
          ]
        }
      ]
    },
    {
      "cell_type": "markdown",
      "source": [
        "Q1\n"
      ],
      "metadata": {
        "id": "6vgyKyANMXcu"
      }
    },
    {
      "cell_type": "code",
      "source": [
        "import time\n",
        "from selenium import webdriver\n",
        "from selenium.webdriver.common.by import By\n",
        "from bs4 import BeautifulSoup\n",
        "\n",
        "specific_options=webdriver.ChromeOptions()\n",
        "specific_options.add_argument('--headless')\n",
        "specific_options.add_argument('--no-sandbox')\n",
        "driver=webdriver.Chrome(options=specific_options)\n",
        "\n",
        "driver.get(\"https://m.dhlottery.co.kr/gameResult.do?method=allWin\")\n",
        "time.sleep(3)\n",
        "\n",
        "year = input()\n",
        "\n",
        "select1 = driver.find_element(By.ID, 'drwNoStart')\n",
        "select2 = driver.find_element(By.ID, 'drwNoEnd')\n",
        "select1.send_keys(year)\n",
        "select2.send_keys(year)\n",
        "\n",
        "btn = driver.find_element(By.XPATH, '//*[@id=\"searchBtn\"]')\n",
        "btn.click()\n",
        "time.sleep(3)\n",
        "\n",
        "soup = BeautifulSoup(driver.page_source, 'html.parser')\n",
        "find = soup.find_all('strong')\n",
        "result = find[1].text\n",
        "num = result.split()[1]\n",
        "print(num)\n",
        "\n",
        "\n"
      ],
      "metadata": {
        "colab": {
          "base_uri": "https://localhost:8080/"
        },
        "id": "9fir6yQDOPRo",
        "outputId": "1dfebe2a-f4f8-43ab-a84a-d7be9953ef2a"
      },
      "execution_count": null,
      "outputs": [
        {
          "output_type": "stream",
          "name": "stdout",
          "text": [
            "1017\n",
            "7\n"
          ]
        }
      ]
    },
    {
      "cell_type": "code",
      "source": [
        "# Beautiful Soup 연동\n",
        "soup = BeautifulSoup(driver.page_source, 'html.parser')\n",
        "find = soup.find_all('strong')\n",
        "result = find[1].text\n",
        "num = result.split()[1]\n",
        "print(num)"
      ],
      "metadata": {
        "colab": {
          "base_uri": "https://localhost:8080/"
        },
        "id": "GtjudZRjTL0y",
        "outputId": "224aee37-fc6d-4e7c-ad14-ea474b033ee1"
      },
      "execution_count": null,
      "outputs": [
        {
          "output_type": "stream",
          "name": "stdout",
          "text": [
            "14\n"
          ]
        }
      ]
    },
    {
      "cell_type": "markdown",
      "source": [
        "Q2"
      ],
      "metadata": {
        "id": "yGp4DD81T9x0"
      }
    },
    {
      "cell_type": "code",
      "source": [
        "import time\n",
        "from selenium import webdriver\n",
        "from selenium.webdriver.common.by import By\n",
        "from bs4 import BeautifulSoup\n",
        "\n",
        "specific_options=webdriver.ChromeOptions()\n",
        "specific_options.add_argument('--headless')\n",
        "specific_options.add_argument('--no-sandbox')\n",
        "driver=webdriver.Chrome(options=specific_options)\n",
        "\n",
        "driver.get(\"https://www.nielsenkorea.co.kr/tv_terrestrial_day.asp?menu=Tit_1&sub_menu=1_1&area=01\")\n",
        "time.sleep(3)\n",
        "\n",
        "year = input()\n",
        "month = input()\n",
        "date = input()\n",
        "\n",
        "if int(month) < 10 :\n",
        "  month = '0'+month\n",
        "\n",
        "if int(date) < 10 :\n",
        "  date = '0'+date\n",
        "\n",
        "select1 = driver.find_element(By.NAME, 'sYear')\n",
        "select2 = driver.find_element(By.NAME, 'sMonth')\n",
        "select3 = driver.find_element(By.NAME, 'sDay')\n",
        "\n",
        "select1.send_keys(year)\n",
        "select2.send_keys(month)\n",
        "select3.send_keys(date)\n",
        "\n",
        "btn = driver.find_element(By.XPATH, '//*[@id=\"sub_body\"]/table[1]/tbody/tr/td/form/table/tbody/tr/td[2]/img')\n",
        "btn.click()\n",
        "time.sleep(3)\n",
        "\n",
        "soup = BeautifulSoup(driver.page_source, 'html.parser')\n",
        "find = soup.find_all('td', class_='tb_txt')\n",
        "result = find[0:3]\n",
        "answer = list()\n",
        "for each_data in result:\n",
        "  name = each_data.text\n",
        "  name = name.strip()\n",
        "  answer.append(name)\n",
        "\n",
        "print(answer[0])\n",
        "print(answer[1])\n",
        "print(answer[2])"
      ],
      "metadata": {
        "id": "U5y1LvHaT-ga"
      },
      "execution_count": null,
      "outputs": []
    },
    {
      "cell_type": "code",
      "source": [
        "soup = BeautifulSoup(driver.page_source, 'html.parser')\n",
        "find = soup.find_all('td', class_='tb_txt')\n",
        "result = find[0:3]\n",
        "answer = list()\n",
        "for each_data in result:\n",
        "  name = each_data.text #불필요한 구문을 없애고 텍스트만 남김\n",
        "  name = name.strip() #텍스트에 포함된 공백 문자 모두를 지움\n",
        "  answer.append(name)\n",
        "\n",
        "print(answer[0])\n",
        "print(answer[1])\n",
        "print(answer[2])"
      ],
      "metadata": {
        "colab": {
          "base_uri": "https://localhost:8080/"
        },
        "id": "IuLPuUwpVInW",
        "outputId": "05033aa7-921c-4c9f-fe62-6e29e3a24d08"
      },
      "execution_count": null,
      "outputs": [
        {
          "output_type": "stream",
          "name": "stdout",
          "text": [
            "KBS9시뉴스\n",
            "아침마당\n",
            "인간극장\n"
          ]
        }
      ]
    },
    {
      "cell_type": "markdown",
      "source": [
        "Q3"
      ],
      "metadata": {
        "id": "VGW4xLNeaYPU"
      }
    },
    {
      "cell_type": "code",
      "source": [
        "import time\n",
        "from selenium import webdriver\n",
        "from selenium.webdriver.common.by import By\n",
        "from bs4 import BeautifulSoup\n",
        "\n",
        "specific_options=webdriver.ChromeOptions()\n",
        "specific_options.add_argument('--headless')\n",
        "specific_options.add_argument('--no-sandbox')\n",
        "driver=webdriver.Chrome(options=specific_options)\n",
        "\n",
        "year = input()\n",
        "month = input()\n",
        "\n",
        "if int(month)<10 :\n",
        "  month = '0'+month\n",
        "\n",
        "url= 'https://movie.daum.net/ranking/boxoffice/monthly'+'?'+'date='+ year + month\n",
        "\n",
        "driver.get(url)\n",
        "time.sleep(3)\n",
        "\n",
        "soup = BeautifulSoup(driver.page_source, 'html.parser')\n",
        "find = soup.find_all('a', class_='link_txt')\n",
        "result = find[0].text\n",
        "print(result)\n",
        "\n"
      ],
      "metadata": {
        "colab": {
          "base_uri": "https://localhost:8080/"
        },
        "id": "jhxK57UGaY3K",
        "outputId": "088fee6a-8bfa-42c1-bae6-dd41f745a87f"
      },
      "execution_count": null,
      "outputs": [
        {
          "output_type": "stream",
          "name": "stdout",
          "text": [
            "2023\n",
            "4\n",
            "스즈메의 문단속\n"
          ]
        }
      ]
    },
    {
      "cell_type": "code",
      "source": [
        "soup = BeautifulSoup(driver.page_source, 'html.parser')\n",
        "find = soup.find_all('a', class_='link_txt')\n",
        "result = find[0].text\n",
        "print(result)"
      ],
      "metadata": {
        "colab": {
          "base_uri": "https://localhost:8080/"
        },
        "id": "Y2g5m87ub42P",
        "outputId": "b9eb3503-eee1-47d3-bcab-43250fb50b5f"
      },
      "execution_count": null,
      "outputs": [
        {
          "output_type": "stream",
          "name": "stdout",
          "text": [
            "기생충\n"
          ]
        }
      ]
    },
    {
      "cell_type": "markdown",
      "source": [
        "Q4"
      ],
      "metadata": {
        "id": "Qg051LgRcFbC"
      }
    },
    {
      "cell_type": "code",
      "source": [
        "import pandas as pd\n",
        "\n",
        "df = pd.read_csv('score(1).csv')\n",
        "\n",
        "low_cutoff = df['TotalScore'].quantile(0.25)\n",
        "high_cutoff = df['TotalScore'].quantile(0.75)\n",
        "IQR = (high_cutoff - low_cutoff)\n",
        "low_limit = low_cutoff - 1.5*IQR\n",
        "high_limit = 1.5*IQR + high_cutoff\n",
        "\n",
        "cond1 = low_limit > df['TotalScore']\n",
        "cond2 = df['TotalScore'] > high_limit\n",
        "bad_df = df.loc[cond1]\n",
        "good_df = df.loc[cond2]\n",
        "\n",
        "for i in range(0, bad_df.shape[0]) :\n",
        "  print(str(bad_df.iloc[i, 0]), '학생 할 수 있어요!')\n",
        "for i in range(0, good_df.shape[0]) :\n",
        "  print(str(good_df.iloc[i, 0]), '학생 대단합니다!')"
      ],
      "metadata": {
        "colab": {
          "base_uri": "https://localhost:8080/"
        },
        "id": "RF4FP5IAcH1w",
        "outputId": "a50d2591-7275-4e92-8983-7dd776f4a48a"
      },
      "execution_count": null,
      "outputs": [
        {
          "output_type": "stream",
          "name": "stdout",
          "text": [
            "2021826381 학생 할 수 있어요!\n",
            "2021029260 학생 할 수 있어요!\n",
            "2017936402 학생 대단합니다!\n",
            "2019396026 학생 대단합니다!\n"
          ]
        }
      ]
    },
    {
      "cell_type": "markdown",
      "source": [
        "Q5"
      ],
      "metadata": {
        "id": "GAf6Fh1L5Bdu"
      }
    },
    {
      "cell_type": "code",
      "source": [
        "!sudo apt-get install -y fonts-nanum\n",
        "!sudo fc-cache -fv\n",
        "!rm ~/.cache/matplotlib -rf\n"
      ],
      "metadata": {
        "colab": {
          "base_uri": "https://localhost:8080/"
        },
        "id": "BB-70pmjHrcA",
        "outputId": "5d2be8a6-4bf2-4598-9479-4ce952214f30"
      },
      "execution_count": null,
      "outputs": [
        {
          "output_type": "stream",
          "name": "stdout",
          "text": [
            "Reading package lists... Done\n",
            "Building dependency tree... Done\n",
            "Reading state information... Done\n",
            "fonts-nanum is already the newest version (20200506-1).\n",
            "0 upgraded, 0 newly installed, 0 to remove and 15 not upgraded.\n",
            "/usr/share/fonts: caching, new cache contents: 0 fonts, 1 dirs\n",
            "/usr/share/fonts/truetype: caching, new cache contents: 0 fonts, 3 dirs\n",
            "/usr/share/fonts/truetype/humor-sans: caching, new cache contents: 1 fonts, 0 dirs\n",
            "/usr/share/fonts/truetype/liberation: caching, new cache contents: 16 fonts, 0 dirs\n",
            "/usr/share/fonts/truetype/nanum: caching, new cache contents: 12 fonts, 0 dirs\n",
            "/usr/local/share/fonts: caching, new cache contents: 0 fonts, 0 dirs\n",
            "/root/.local/share/fonts: skipping, no such directory\n",
            "/root/.fonts: skipping, no such directory\n",
            "/usr/share/fonts/truetype: skipping, looped directory detected\n",
            "/usr/share/fonts/truetype/humor-sans: skipping, looped directory detected\n",
            "/usr/share/fonts/truetype/liberation: skipping, looped directory detected\n",
            "/usr/share/fonts/truetype/nanum: skipping, looped directory detected\n",
            "/var/cache/fontconfig: cleaning cache directory\n",
            "/root/.cache/fontconfig: not cleaning non-existent cache directory\n",
            "/root/.fontconfig: not cleaning non-existent cache directory\n",
            "fc-cache: succeeded\n"
          ]
        }
      ]
    },
    {
      "cell_type": "code",
      "source": [
        "import pandas as pd\n",
        "import matplotlib.pyplot as plt\n",
        "\n",
        "df = pd.read_excel('job(1).xlsx')\n",
        "cond = df['자치구'] == '노원구'\n",
        "nowon_df = df.loc[cond]\n",
        "nowon_df = nowon_df.set_index('기간')\n",
        "nowon_per_df = nowon_df.loc[: ,'취업률']\n",
        "\n",
        "plt.figure(figsize=(10,5))\n",
        "nowon_per_df.plot()\n",
        "plt.title('노원구 특성화고의 8년간 취업률 변화')\n",
        "plt.xlabel('기간')\n",
        "plt.ylabel('취업률')\n",
        "\n",
        "plt.show()"
      ],
      "metadata": {
        "id": "ldX8o1SR5CLT"
      },
      "execution_count": null,
      "outputs": []
    },
    {
      "cell_type": "code",
      "source": [
        "import pandas as pd\n",
        "import matplotlib.pyplot as plt\n",
        "\n",
        "df = pd.read_excel('job(1).xlsx')\n",
        "cond1 = df['자치구'] == '용산구'\n",
        "cond2 = df['자치구'] == '서초구'\n",
        "cond3 = df['자치구'] == '강남구'\n",
        "cond = cond1 | cond2 | cond3\n",
        "new_df = df.loc[cond]\n",
        "\n",
        "cond4 = new_df['기간'] == 2014\n",
        "compare_df = new_df.loc[cond4].set_index('자치구')\n",
        "compare_df = compare_df.iloc[:, 3]\n",
        "\n",
        "plt.figure(figsize = (10,5))\n",
        "compare_df.plot(kind = 'bar')\n",
        "\n",
        "plt.title('용산구-서초구-강남구 특성화고의 취업자 수')\n",
        "plt.xlabel('자치구')\n",
        "plt.ylabel('취업자 수')\n",
        "\n",
        "plt.show()\n",
        "\n",
        "\n"
      ],
      "metadata": {
        "id": "ou5YXWfPIT55"
      },
      "execution_count": null,
      "outputs": []
    },
    {
      "cell_type": "code",
      "source": [
        "import pandas as pd\n",
        "import matplotlib.pyplot as plt\n",
        "\n",
        "\n",
        "df = pd.read_excel('job(1).xlsx')\n",
        "cond = df['기간'] == 2017\n",
        "df = df.loc[cond]\n",
        "df.plot(kind = 'scatter', x ='졸업자 수', y ='취업자 수')\n",
        "\n",
        "plt.xlabel('졸업자 수')\n",
        "plt.ylabel('취업자 수')\n",
        "plt.show()"
      ],
      "metadata": {
        "id": "8hDX2wd4LcIX"
      },
      "execution_count": null,
      "outputs": []
    },
    {
      "cell_type": "code",
      "source": [
        "import seaborn as sns\n",
        "import pandas as pd\n",
        "\n",
        "df = pd.read_excel('job(1).xlsx')\n",
        "cond = df['기간'] == 2014\n",
        "df = df.loc[cond]\n",
        "\n",
        "sns.lmplot(data=df, x='졸업자 수', y='취업자 수', hue='자치구')\n",
        "plt.title('구 별 특성화고 졸업자 수와 취업자 수')\n",
        "plt.xlabel('졸업자 수')\n",
        "plt.ylabel('취업자 수')\n",
        "\n",
        "plt.show()"
      ],
      "metadata": {
        "id": "HzvKQQHpMArS"
      },
      "execution_count": null,
      "outputs": []
    }
  ]
}