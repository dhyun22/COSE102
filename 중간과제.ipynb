{
  "nbformat": 4,
  "nbformat_minor": 0,
  "metadata": {
    "colab": {
      "provenance": [],
      "authorship_tag": "ABX9TyM+0tbuzQTEXz/BMIYpqrRp",
      "include_colab_link": true
    },
    "kernelspec": {
      "name": "python3",
      "display_name": "Python 3"
    },
    "language_info": {
      "name": "python"
    }
  },
  "cells": [
    {
      "cell_type": "markdown",
      "metadata": {
        "id": "view-in-github",
        "colab_type": "text"
      },
      "source": [
        "<a href=\"https://colab.research.google.com/github/dhyun22/COSE102/blob/main/%EC%A4%91%EA%B0%84%EA%B3%BC%EC%A0%9C.ipynb\" target=\"_parent\"><img src=\"https://colab.research.google.com/assets/colab-badge.svg\" alt=\"Open In Colab\"/></a>"
      ]
    },
    {
      "cell_type": "markdown",
      "source": [
        "Question 1"
      ],
      "metadata": {
        "id": "IH4xPGjSBp5d"
      }
    },
    {
      "cell_type": "code",
      "source": [
        "i=1\n",
        "a=int(input())\n",
        "b=int(input())\n",
        "while(True):\n",
        "  if i%2==0:\n",
        "    a=a*1.07\n",
        "    b=b*1.02\n",
        "    if a>b:\n",
        "      print(i)\n",
        "      break\n",
        "  elif i%2!=0:\n",
        "    a=a+10000\n",
        "    b=b*1.02\n",
        "    if a>b:\n",
        "      print(i)\n",
        "      break\n",
        "  i+=1"
      ],
      "metadata": {
        "colab": {
          "base_uri": "https://localhost:8080/"
        },
        "id": "QmDMjjkjBq60",
        "outputId": "89538e1e-3d71-4aed-ac73-cb3cd116d5e3"
      },
      "execution_count": null,
      "outputs": [
        {
          "output_type": "stream",
          "name": "stdout",
          "text": [
            "10000\n",
            "500000\n",
            "84\n"
          ]
        }
      ]
    },
    {
      "cell_type": "markdown",
      "source": [
        "Question 4"
      ],
      "metadata": {
        "id": "M4HLSqyy7YMH"
      }
    },
    {
      "cell_type": "code",
      "execution_count": null,
      "metadata": {
        "colab": {
          "base_uri": "https://localhost:8080/"
        },
        "id": "cdOMDo2Z4puG",
        "outputId": "ebe609bf-a50c-4a83-aaa6-af0b5bb1a8a5"
      },
      "outputs": [
        {
          "output_type": "stream",
          "name": "stdout",
          "text": [
            "김고려 박안암 최고\n",
            "2\n"
          ]
        }
      ],
      "source": [
        "name=input().split(' ')\n",
        "num=0\n",
        "for i in name:\n",
        "  if i[-1]=='고' or i[-1]=='려' or i[-1]=='대':\n",
        "    num+=1\n",
        "print(num)"
      ]
    },
    {
      "cell_type": "markdown",
      "source": [
        "Question 6"
      ],
      "metadata": {
        "id": "1Dk_dywE7dBr"
      }
    },
    {
      "cell_type": "code",
      "source": [
        "num=input().split(' ')\n",
        "a=int(num[0])\n",
        "b=int(num[1])\n",
        "c=int(num[2])\n",
        "result=[]\n",
        "for i in range(0,a+1):\n",
        "  for j in range(0,b+1):\n",
        "    for k in range(0,c+1):\n",
        "      sum=i*2+j*3+k*4\n",
        "      if sum not in result:\n",
        "        result.append(sum)\n",
        "print(len(result))"
      ],
      "metadata": {
        "colab": {
          "base_uri": "https://localhost:8080/"
        },
        "id": "ajFCPXUO7W_4",
        "outputId": "c9c29109-2b8a-4171-8d4a-ecad5f0e130e"
      },
      "execution_count": null,
      "outputs": [
        {
          "output_type": "stream",
          "name": "stdout",
          "text": [
            "2 1 1\n",
            "10\n"
          ]
        }
      ]
    },
    {
      "cell_type": "code",
      "source": [],
      "metadata": {
        "id": "cyRD3np_7ctn"
      },
      "execution_count": null,
      "outputs": []
    }
  ]
}